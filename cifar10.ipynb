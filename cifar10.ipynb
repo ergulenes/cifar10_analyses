{
  "cells": [
    {
      "cell_type": "code",
      "execution_count": null,
      "metadata": {
        "id": "S79ngjfQrl3c"
      },
      "outputs": [],
      "source": [
        "from google.colab import drive\n",
        "drive.mount(\"/gdirve\")\n",
        "\n",
        "import numpy as np\n",
        "import pandas as np\n",
        "from matplotlib import pyplot as plt\n",
        "\n",
        "import tensorflow as tf\n",
        "#from tf.keras import Sequential, layers, input\n",
        "#from tf.keras.Sequential import layer\n",
        "from tensorflow.keras.models import Sequential, model_from_json\n",
        "from tensorflow.keras.layers import Dense, Conv2D, Activation, MaxPool2D, Flatten, Dropout, BatchNormalization\n",
        "from tensorflow.keras.utils import to_categorical\n",
        "\n",
        "\n",
        "\n"
      ]
    },
    {
      "cell_type": "markdown",
      "metadata": {
        "id": "RSG9LyKtvRB8"
      },
      "source": [
        "## Test ve eğitim modellerinin yüklenmesi(işlenmiş)"
      ]
    },
    {
      "cell_type": "code",
      "execution_count": null,
      "metadata": {
        "id": "ZeoqAvGsvOqX"
      },
      "outputs": [],
      "source": [
        "\n",
        "(x_train, y_train), (x_test, y_test) = tf.keras.datasets.cifar10.load_data()\n",
        "assert x_train.shape == (50000, 32, 32, 3)\n",
        "assert x_test.shape == (10000, 32, 32, 3)\n",
        "assert y_train.shape == (50000, 1)\n",
        "assert y_test.shape == (10000, 1)\n",
        "\n",
        "\n"
      ]
    },
    {
      "cell_type": "code",
      "execution_count": null,
      "metadata": {
        "id": "bf2bnBje64af"
      },
      "outputs": [],
      "source": [
        "print(x_train.shape,y_train)\n",
        "y_train= to_categorical(y_train)\n",
        "y_test = to_categorical(y_test)\n"
      ]
    },
    {
      "cell_type": "code",
      "execution_count": null,
      "metadata": {
        "id": "YHqabMN-yghz"
      },
      "outputs": [],
      "source": [
        "model = Sequential()\n",
        "\n",
        "#1. katman\n",
        "\n",
        "model.add(Conv2D(filters = 32, kernel_size=3,input_shape=(32,32,3)))\n",
        "model.add(BatchNormalization())\n",
        "model.add(Activation(\"relu\"))\n",
        "model.add(Dropout(0.2))\n",
        "\n",
        "#2. katman\n",
        "\n",
        "model.add(Conv2D(filters = 32, kernel_size=3))\n",
        "model.add(BatchNormalization()),\n",
        "model.add(Activation(\"relu\")),\n",
        "model.add(MaxPool2D(pool_size=(2, 2), strides = (1,1)))\n",
        "\n",
        "#3. katman\n",
        "\n",
        "model.add(Conv2D(filters = 64, kernel_size=3))\n",
        "model.add(BatchNormalization())\n",
        "model.add(Activation(\"relu\"))\n",
        "model.add(Dropout(0.2))\n",
        "\n",
        "#4. katman\n",
        "\n",
        "model.add(Conv2D(filters = 64, kernel_size=3))\n",
        "model.add(BatchNormalization())\n",
        "model.add(Activation(\"relu\"))\n",
        "model.add(MaxPool2D(pool_size=(2, 2), strides =(1,1)))\n",
        "\n",
        "#5. katman\n",
        "\n",
        "model.add(Conv2D(filters = 128, kernel_size=3))\n",
        "model.add(BatchNormalization())\n",
        "model.add(Activation(\"relu\"))\n",
        "model.add(Dropout(0.2))\n",
        "\n",
        "#6. katman\n",
        "\n",
        "model.add(Conv2D(filters = 128, kernel_size=3))\n",
        "model.add(BatchNormalization())\n",
        "model.add(Activation(\"relu\"))\n",
        "model.add(MaxPool2D(pool_size=(2, 2), strides =(1,1)))\n",
        "\n",
        "\n",
        "#7. Katman\n",
        "model.add(Flatten())\n",
        "model.add(Dropout(0.2))\n",
        "\n",
        "#8. katman\n",
        "\n",
        "model.add(Dense(units=1024))\n",
        "model.add(Dropout(0.2))\n",
        "\n",
        "#9. katman\n",
        "\n",
        "model.add(Dense(units=512))\n",
        "model.add(Dropout(0.2))\n",
        "\n",
        "\n",
        "#Çıkış Katmanı\n",
        "\n",
        "model.add(Dense(10))\n",
        "model.add(Activation(\"softmax\"))\n",
        "\n",
        "\n",
        "model.compile(loss=\"categorical_crossentropy\", optimizer=\"adam\", metrics=[\"accuracy\"])\n",
        "\n",
        "\n",
        "\n",
        "from keras.utils.vis_utils import plot_model\n",
        "plot_model(model, to_file='model_plot.png', show_shapes=True, show_layer_names=True)\n"
      ]
    },
    {
      "cell_type": "code",
      "execution_count": null,
      "metadata": {
        "id": "ThGpXM-Owhbx"
      },
      "outputs": [],
      "source": [
        "epochs=2\n",
        "batchsize=100\n",
        "\n",
        "\n",
        "#Fit etme\n",
        "hist=model.fit(x_train, y_train,\n",
        "               epochs=epochs,\n",
        "               shuffle=True,\n",
        "               batch_size=batchsize,\n",
        "               validation_data=(x_test,y_test))\n",
        "\n",
        "\n",
        "model.save(\"/gdrive/MyDrive/Colab Notebooks/new_model.h5\")\n"
      ]
    }
  ],
  "metadata": {
    "colab": {
      "collapsed_sections": [],
      "machine_shape": "hm",
      "name": "cifar10.ipynb",
      "provenance": []
    },
    "gpuClass": "standard",
    "kernelspec": {
      "display_name": "Python 3",
      "name": "python3"
    },
    "language_info": {
      "name": "python"
    }
  },
  "nbformat": 4,
  "nbformat_minor": 0
}